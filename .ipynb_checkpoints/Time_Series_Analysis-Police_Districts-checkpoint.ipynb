{
 "cells": [
  {
   "cell_type": "code",
   "execution_count": 40,
   "metadata": {},
   "outputs": [],
   "source": [
    "import pandas as pd\n",
    "import numpy as np"
   ]
  },
  {
   "cell_type": "code",
   "execution_count": 41,
   "metadata": {},
   "outputs": [],
   "source": [
    "from matplotlib import pyplot as plt\n",
    "import seaborn as sns"
   ]
  },
  {
   "cell_type": "code",
   "execution_count": 42,
   "metadata": {},
   "outputs": [],
   "source": [
    "from pandas import to_datetime"
   ]
  },
  {
   "cell_type": "code",
   "execution_count": 43,
   "metadata": {},
   "outputs": [],
   "source": [
    "import datetime\n",
    "from datetime import datetime"
   ]
  },
  {
   "cell_type": "code",
   "execution_count": 44,
   "metadata": {},
   "outputs": [],
   "source": [
    "raw_csv_data = pd.read_csv(\"crime_with_coordinates.csv\", low_memory=False)"
   ]
  },
  {
   "cell_type": "code",
   "execution_count": 45,
   "metadata": {},
   "outputs": [
    {
     "data": {
      "text/html": [
       "<div>\n",
       "<style scoped>\n",
       "    .dataframe tbody tr th:only-of-type {\n",
       "        vertical-align: middle;\n",
       "    }\n",
       "\n",
       "    .dataframe tbody tr th {\n",
       "        vertical-align: top;\n",
       "    }\n",
       "\n",
       "    .dataframe thead th {\n",
       "        text-align: right;\n",
       "    }\n",
       "</style>\n",
       "<table border=\"1\" class=\"dataframe\">\n",
       "  <thead>\n",
       "    <tr style=\"text-align: right;\">\n",
       "      <th></th>\n",
       "      <th>Unnamed: 0</th>\n",
       "      <th>incident_id</th>\n",
       "      <th>case_number</th>\n",
       "      <th>incident_datetime</th>\n",
       "      <th>incident_type_primary</th>\n",
       "      <th>incident_description</th>\n",
       "      <th>clearance_type</th>\n",
       "      <th>address_1</th>\n",
       "      <th>address_2</th>\n",
       "      <th>city</th>\n",
       "      <th>...</th>\n",
       "      <th>parent_incident_type</th>\n",
       "      <th>Census Tract 1</th>\n",
       "      <th>Census Block 1</th>\n",
       "      <th>Census Block Group 1</th>\n",
       "      <th>Neighborhood 1</th>\n",
       "      <th>Police District 1</th>\n",
       "      <th>Council District 1</th>\n",
       "      <th>neighborhood</th>\n",
       "      <th>police_dt</th>\n",
       "      <th>council_dt</th>\n",
       "    </tr>\n",
       "  </thead>\n",
       "  <tbody>\n",
       "    <tr>\n",
       "      <th>0</th>\n",
       "      <td>59596</td>\n",
       "      <td>55236827.0</td>\n",
       "      <td>11-0050386</td>\n",
       "      <td>1910-12-22 00:00:00</td>\n",
       "      <td>LARCENY/THEFT</td>\n",
       "      <td>Buffalo Police are investigating this report o...</td>\n",
       "      <td>NaN</td>\n",
       "      <td>200 Block CRESTWOOD AV</td>\n",
       "      <td>NaN</td>\n",
       "      <td>BUFFALO</td>\n",
       "      <td>...</td>\n",
       "      <td>Theft</td>\n",
       "      <td>NaN</td>\n",
       "      <td>NaN</td>\n",
       "      <td>NaN</td>\n",
       "      <td>NaN</td>\n",
       "      <td>NaN</td>\n",
       "      <td>NaN</td>\n",
       "      <td>North Park</td>\n",
       "      <td>District D</td>\n",
       "      <td>DELAWARE</td>\n",
       "    </tr>\n",
       "    <tr>\n",
       "      <th>1</th>\n",
       "      <td>121509</td>\n",
       "      <td>710086379.0</td>\n",
       "      <td>15-0760407</td>\n",
       "      <td>1914-12-01 22:00:00</td>\n",
       "      <td>LARCENY/THEFT</td>\n",
       "      <td>Buffalo Police are investigating this report o...</td>\n",
       "      <td>NaN</td>\n",
       "      <td>100 Block LINCOLN PW</td>\n",
       "      <td>NaN</td>\n",
       "      <td>BUFFALO</td>\n",
       "      <td>...</td>\n",
       "      <td>Theft</td>\n",
       "      <td>NaN</td>\n",
       "      <td>NaN</td>\n",
       "      <td>NaN</td>\n",
       "      <td>NaN</td>\n",
       "      <td>NaN</td>\n",
       "      <td>NaN</td>\n",
       "      <td>Elmwood Bidwell</td>\n",
       "      <td>District D</td>\n",
       "      <td>DELAWARE</td>\n",
       "    </tr>\n",
       "    <tr>\n",
       "      <th>2</th>\n",
       "      <td>204751</td>\n",
       "      <td>942663542.0</td>\n",
       "      <td>06-1840984</td>\n",
       "      <td>1951-07-03 19:51:00</td>\n",
       "      <td>UUV</td>\n",
       "      <td>Buffalo Police are investigating this report o...</td>\n",
       "      <td>NaN</td>\n",
       "      <td>200 Block W FERRY ST</td>\n",
       "      <td>NaN</td>\n",
       "      <td>BUFFALO</td>\n",
       "      <td>...</td>\n",
       "      <td>Theft of Vehicle</td>\n",
       "      <td>NaN</td>\n",
       "      <td>NaN</td>\n",
       "      <td>NaN</td>\n",
       "      <td>NaN</td>\n",
       "      <td>NaN</td>\n",
       "      <td>NaN</td>\n",
       "      <td>Upper West Side</td>\n",
       "      <td>District B</td>\n",
       "      <td>NIAGARA</td>\n",
       "    </tr>\n",
       "    <tr>\n",
       "      <th>3</th>\n",
       "      <td>146812</td>\n",
       "      <td>146621859.0</td>\n",
       "      <td>13-0730379</td>\n",
       "      <td>1951-12-05 02:20:21</td>\n",
       "      <td>ASSAULT</td>\n",
       "      <td>Buffalo Police are investigating this report o...</td>\n",
       "      <td>NaN</td>\n",
       "      <td>200 Block CAMBRIDGE AV</td>\n",
       "      <td>NaN</td>\n",
       "      <td>BUFFALO</td>\n",
       "      <td>...</td>\n",
       "      <td>Assault</td>\n",
       "      <td>NaN</td>\n",
       "      <td>NaN</td>\n",
       "      <td>NaN</td>\n",
       "      <td>NaN</td>\n",
       "      <td>NaN</td>\n",
       "      <td>NaN</td>\n",
       "      <td>Genesee-Moselle</td>\n",
       "      <td>District E</td>\n",
       "      <td>MASTEN</td>\n",
       "    </tr>\n",
       "    <tr>\n",
       "      <th>4</th>\n",
       "      <td>233717</td>\n",
       "      <td>942606470.0</td>\n",
       "      <td>08-3530528</td>\n",
       "      <td>1952-08-30 16:00:00</td>\n",
       "      <td>LARCENY/THEFT</td>\n",
       "      <td>Buffalo Police are investigating this report o...</td>\n",
       "      <td>NaN</td>\n",
       "      <td>200 Block JEFFERSON AV</td>\n",
       "      <td>NaN</td>\n",
       "      <td>BUFFALO</td>\n",
       "      <td>...</td>\n",
       "      <td>Theft</td>\n",
       "      <td>NaN</td>\n",
       "      <td>NaN</td>\n",
       "      <td>NaN</td>\n",
       "      <td>NaN</td>\n",
       "      <td>NaN</td>\n",
       "      <td>NaN</td>\n",
       "      <td>Broadway Fillmore</td>\n",
       "      <td>District C</td>\n",
       "      <td>ELLICOTT</td>\n",
       "    </tr>\n",
       "    <tr>\n",
       "      <th>...</th>\n",
       "      <td>...</td>\n",
       "      <td>...</td>\n",
       "      <td>...</td>\n",
       "      <td>...</td>\n",
       "      <td>...</td>\n",
       "      <td>...</td>\n",
       "      <td>...</td>\n",
       "      <td>...</td>\n",
       "      <td>...</td>\n",
       "      <td>...</td>\n",
       "      <td>...</td>\n",
       "      <td>...</td>\n",
       "      <td>...</td>\n",
       "      <td>...</td>\n",
       "      <td>...</td>\n",
       "      <td>...</td>\n",
       "      <td>...</td>\n",
       "      <td>...</td>\n",
       "      <td>...</td>\n",
       "      <td>...</td>\n",
       "      <td>...</td>\n",
       "    </tr>\n",
       "    <tr>\n",
       "      <th>267992</th>\n",
       "      <td>76363</td>\n",
       "      <td>146331068.0</td>\n",
       "      <td>13-0720178</td>\n",
       "      <td>NaN</td>\n",
       "      <td>LARCENY/THEFT</td>\n",
       "      <td>Buffalo Police are investigating this report o...</td>\n",
       "      <td>NaN</td>\n",
       "      <td>1 Block PLYMOUTH AV</td>\n",
       "      <td>NaN</td>\n",
       "      <td>BUFFALO</td>\n",
       "      <td>...</td>\n",
       "      <td>Theft</td>\n",
       "      <td>NaN</td>\n",
       "      <td>NaN</td>\n",
       "      <td>NaN</td>\n",
       "      <td>NaN</td>\n",
       "      <td>NaN</td>\n",
       "      <td>NaN</td>\n",
       "      <td>NaN</td>\n",
       "      <td>NaN</td>\n",
       "      <td>NaN</td>\n",
       "    </tr>\n",
       "    <tr>\n",
       "      <th>267993</th>\n",
       "      <td>138740</td>\n",
       "      <td>360846240.0</td>\n",
       "      <td>14-0420506</td>\n",
       "      <td>NaN</td>\n",
       "      <td>LARCENY/THEFT</td>\n",
       "      <td>Buffalo Police are investigating this report o...</td>\n",
       "      <td>NaN</td>\n",
       "      <td>NaN</td>\n",
       "      <td>NaN</td>\n",
       "      <td>Buffalo</td>\n",
       "      <td>...</td>\n",
       "      <td>Theft</td>\n",
       "      <td>NaN</td>\n",
       "      <td>NaN</td>\n",
       "      <td>NaN</td>\n",
       "      <td>NaN</td>\n",
       "      <td>NaN</td>\n",
       "      <td>NaN</td>\n",
       "      <td>NaN</td>\n",
       "      <td>NaN</td>\n",
       "      <td>NaN</td>\n",
       "    </tr>\n",
       "    <tr>\n",
       "      <th>267994</th>\n",
       "      <td>145170</td>\n",
       "      <td>57717874.0</td>\n",
       "      <td>11-0400654</td>\n",
       "      <td>NaN</td>\n",
       "      <td>BURGLARY</td>\n",
       "      <td>Buffalo Police are investigating this report o...</td>\n",
       "      <td>NaN</td>\n",
       "      <td>BROADWAY &amp; BAILEY AV</td>\n",
       "      <td>NaN</td>\n",
       "      <td>BUFFALO</td>\n",
       "      <td>...</td>\n",
       "      <td>Breaking &amp; Entering</td>\n",
       "      <td>NaN</td>\n",
       "      <td>NaN</td>\n",
       "      <td>NaN</td>\n",
       "      <td>NaN</td>\n",
       "      <td>NaN</td>\n",
       "      <td>NaN</td>\n",
       "      <td>NaN</td>\n",
       "      <td>NaN</td>\n",
       "      <td>NaN</td>\n",
       "    </tr>\n",
       "    <tr>\n",
       "      <th>267995</th>\n",
       "      <td>154055</td>\n",
       "      <td>50578953.0</td>\n",
       "      <td>10-3130893</td>\n",
       "      <td>NaN</td>\n",
       "      <td>ASSAULT</td>\n",
       "      <td>Buffalo Police are investigating this report o...</td>\n",
       "      <td>NaN</td>\n",
       "      <td>200 Block STEVENSON ST</td>\n",
       "      <td>NaN</td>\n",
       "      <td>BUFFALO</td>\n",
       "      <td>...</td>\n",
       "      <td>Assault</td>\n",
       "      <td>NaN</td>\n",
       "      <td>NaN</td>\n",
       "      <td>NaN</td>\n",
       "      <td>NaN</td>\n",
       "      <td>NaN</td>\n",
       "      <td>NaN</td>\n",
       "      <td>Seneca-Cazenovia</td>\n",
       "      <td>District A</td>\n",
       "      <td>SOUTH</td>\n",
       "    </tr>\n",
       "    <tr>\n",
       "      <th>267996</th>\n",
       "      <td>189511</td>\n",
       "      <td>134742156.0</td>\n",
       "      <td>12-3390923</td>\n",
       "      <td>NaN</td>\n",
       "      <td>ASSAULT</td>\n",
       "      <td>Buffalo Police are investigating this report o...</td>\n",
       "      <td>NaN</td>\n",
       "      <td>GRANT ST &amp; AMHERST ST</td>\n",
       "      <td>NaN</td>\n",
       "      <td>BUFFALO</td>\n",
       "      <td>...</td>\n",
       "      <td>Assault</td>\n",
       "      <td>NaN</td>\n",
       "      <td>NaN</td>\n",
       "      <td>NaN</td>\n",
       "      <td>NaN</td>\n",
       "      <td>NaN</td>\n",
       "      <td>NaN</td>\n",
       "      <td>NaN</td>\n",
       "      <td>NaN</td>\n",
       "      <td>NaN</td>\n",
       "    </tr>\n",
       "  </tbody>\n",
       "</table>\n",
       "<p>267997 rows × 30 columns</p>\n",
       "</div>"
      ],
      "text/plain": [
       "        Unnamed: 0  incident_id case_number    incident_datetime  \\\n",
       "0            59596   55236827.0  11-0050386  1910-12-22 00:00:00   \n",
       "1           121509  710086379.0  15-0760407  1914-12-01 22:00:00   \n",
       "2           204751  942663542.0  06-1840984  1951-07-03 19:51:00   \n",
       "3           146812  146621859.0  13-0730379  1951-12-05 02:20:21   \n",
       "4           233717  942606470.0  08-3530528  1952-08-30 16:00:00   \n",
       "...            ...          ...         ...                  ...   \n",
       "267992       76363  146331068.0  13-0720178                  NaN   \n",
       "267993      138740  360846240.0  14-0420506                  NaN   \n",
       "267994      145170   57717874.0  11-0400654                  NaN   \n",
       "267995      154055   50578953.0  10-3130893                  NaN   \n",
       "267996      189511  134742156.0  12-3390923                  NaN   \n",
       "\n",
       "       incident_type_primary  \\\n",
       "0              LARCENY/THEFT   \n",
       "1              LARCENY/THEFT   \n",
       "2                        UUV   \n",
       "3                    ASSAULT   \n",
       "4              LARCENY/THEFT   \n",
       "...                      ...   \n",
       "267992         LARCENY/THEFT   \n",
       "267993         LARCENY/THEFT   \n",
       "267994              BURGLARY   \n",
       "267995               ASSAULT   \n",
       "267996               ASSAULT   \n",
       "\n",
       "                                     incident_description  clearance_type  \\\n",
       "0       Buffalo Police are investigating this report o...             NaN   \n",
       "1       Buffalo Police are investigating this report o...             NaN   \n",
       "2       Buffalo Police are investigating this report o...             NaN   \n",
       "3       Buffalo Police are investigating this report o...             NaN   \n",
       "4       Buffalo Police are investigating this report o...             NaN   \n",
       "...                                                   ...             ...   \n",
       "267992  Buffalo Police are investigating this report o...             NaN   \n",
       "267993  Buffalo Police are investigating this report o...             NaN   \n",
       "267994  Buffalo Police are investigating this report o...             NaN   \n",
       "267995  Buffalo Police are investigating this report o...             NaN   \n",
       "267996  Buffalo Police are investigating this report o...             NaN   \n",
       "\n",
       "                     address_1  address_2     city  ... parent_incident_type  \\\n",
       "0       200 Block CRESTWOOD AV        NaN  BUFFALO  ...                Theft   \n",
       "1         100 Block LINCOLN PW        NaN  BUFFALO  ...                Theft   \n",
       "2         200 Block W FERRY ST        NaN  BUFFALO  ...     Theft of Vehicle   \n",
       "3       200 Block CAMBRIDGE AV        NaN  BUFFALO  ...              Assault   \n",
       "4       200 Block JEFFERSON AV        NaN  BUFFALO  ...                Theft   \n",
       "...                        ...        ...      ...  ...                  ...   \n",
       "267992     1 Block PLYMOUTH AV        NaN  BUFFALO  ...                Theft   \n",
       "267993                     NaN        NaN  Buffalo  ...                Theft   \n",
       "267994    BROADWAY & BAILEY AV        NaN  BUFFALO  ...  Breaking & Entering   \n",
       "267995  200 Block STEVENSON ST        NaN  BUFFALO  ...              Assault   \n",
       "267996   GRANT ST & AMHERST ST        NaN  BUFFALO  ...              Assault   \n",
       "\n",
       "       Census Tract 1 Census Block 1  Census Block Group 1  Neighborhood 1  \\\n",
       "0                 NaN            NaN                   NaN             NaN   \n",
       "1                 NaN            NaN                   NaN             NaN   \n",
       "2                 NaN            NaN                   NaN             NaN   \n",
       "3                 NaN            NaN                   NaN             NaN   \n",
       "4                 NaN            NaN                   NaN             NaN   \n",
       "...               ...            ...                   ...             ...   \n",
       "267992            NaN            NaN                   NaN             NaN   \n",
       "267993            NaN            NaN                   NaN             NaN   \n",
       "267994            NaN            NaN                   NaN             NaN   \n",
       "267995            NaN            NaN                   NaN             NaN   \n",
       "267996            NaN            NaN                   NaN             NaN   \n",
       "\n",
       "       Police District 1 Council District 1       neighborhood   police_dt  \\\n",
       "0                    NaN                NaN         North Park  District D   \n",
       "1                    NaN                NaN    Elmwood Bidwell  District D   \n",
       "2                    NaN                NaN    Upper West Side  District B   \n",
       "3                    NaN                NaN    Genesee-Moselle  District E   \n",
       "4                    NaN                NaN  Broadway Fillmore  District C   \n",
       "...                  ...                ...                ...         ...   \n",
       "267992               NaN                NaN                NaN         NaN   \n",
       "267993               NaN                NaN                NaN         NaN   \n",
       "267994               NaN                NaN                NaN         NaN   \n",
       "267995               NaN                NaN   Seneca-Cazenovia  District A   \n",
       "267996               NaN                NaN                NaN         NaN   \n",
       "\n",
       "       council_dt  \n",
       "0        DELAWARE  \n",
       "1        DELAWARE  \n",
       "2         NIAGARA  \n",
       "3          MASTEN  \n",
       "4        ELLICOTT  \n",
       "...           ...  \n",
       "267992        NaN  \n",
       "267993        NaN  \n",
       "267994        NaN  \n",
       "267995      SOUTH  \n",
       "267996        NaN  \n",
       "\n",
       "[267997 rows x 30 columns]"
      ]
     },
     "execution_count": 45,
     "metadata": {},
     "output_type": "execute_result"
    }
   ],
   "source": [
    "raw_csv_data"
   ]
  },
  {
   "cell_type": "markdown",
   "metadata": {},
   "source": [
    "## Pre-processing the data"
   ]
  },
  {
   "cell_type": "code",
   "execution_count": 46,
   "metadata": {},
   "outputs": [],
   "source": [
    "data_police = raw_csv_data.loc[:,['incident_datetime', 'police_dt']]"
   ]
  },
  {
   "cell_type": "code",
   "execution_count": 47,
   "metadata": {},
   "outputs": [
    {
     "data": {
      "text/html": [
       "<div>\n",
       "<style scoped>\n",
       "    .dataframe tbody tr th:only-of-type {\n",
       "        vertical-align: middle;\n",
       "    }\n",
       "\n",
       "    .dataframe tbody tr th {\n",
       "        vertical-align: top;\n",
       "    }\n",
       "\n",
       "    .dataframe thead th {\n",
       "        text-align: right;\n",
       "    }\n",
       "</style>\n",
       "<table border=\"1\" class=\"dataframe\">\n",
       "  <thead>\n",
       "    <tr style=\"text-align: right;\">\n",
       "      <th></th>\n",
       "      <th>incident_datetime</th>\n",
       "      <th>police_dt</th>\n",
       "    </tr>\n",
       "  </thead>\n",
       "  <tbody>\n",
       "    <tr>\n",
       "      <th>0</th>\n",
       "      <td>1910-12-22 00:00:00</td>\n",
       "      <td>District D</td>\n",
       "    </tr>\n",
       "    <tr>\n",
       "      <th>1</th>\n",
       "      <td>1914-12-01 22:00:00</td>\n",
       "      <td>District D</td>\n",
       "    </tr>\n",
       "    <tr>\n",
       "      <th>2</th>\n",
       "      <td>1951-07-03 19:51:00</td>\n",
       "      <td>District B</td>\n",
       "    </tr>\n",
       "    <tr>\n",
       "      <th>3</th>\n",
       "      <td>1951-12-05 02:20:21</td>\n",
       "      <td>District E</td>\n",
       "    </tr>\n",
       "    <tr>\n",
       "      <th>4</th>\n",
       "      <td>1952-08-30 16:00:00</td>\n",
       "      <td>District C</td>\n",
       "    </tr>\n",
       "    <tr>\n",
       "      <th>...</th>\n",
       "      <td>...</td>\n",
       "      <td>...</td>\n",
       "    </tr>\n",
       "    <tr>\n",
       "      <th>267992</th>\n",
       "      <td>NaN</td>\n",
       "      <td>NaN</td>\n",
       "    </tr>\n",
       "    <tr>\n",
       "      <th>267993</th>\n",
       "      <td>NaN</td>\n",
       "      <td>NaN</td>\n",
       "    </tr>\n",
       "    <tr>\n",
       "      <th>267994</th>\n",
       "      <td>NaN</td>\n",
       "      <td>NaN</td>\n",
       "    </tr>\n",
       "    <tr>\n",
       "      <th>267995</th>\n",
       "      <td>NaN</td>\n",
       "      <td>District A</td>\n",
       "    </tr>\n",
       "    <tr>\n",
       "      <th>267996</th>\n",
       "      <td>NaN</td>\n",
       "      <td>NaN</td>\n",
       "    </tr>\n",
       "  </tbody>\n",
       "</table>\n",
       "<p>267997 rows × 2 columns</p>\n",
       "</div>"
      ],
      "text/plain": [
       "          incident_datetime   police_dt\n",
       "0       1910-12-22 00:00:00  District D\n",
       "1       1914-12-01 22:00:00  District D\n",
       "2       1951-07-03 19:51:00  District B\n",
       "3       1951-12-05 02:20:21  District E\n",
       "4       1952-08-30 16:00:00  District C\n",
       "...                     ...         ...\n",
       "267992                  NaN         NaN\n",
       "267993                  NaN         NaN\n",
       "267994                  NaN         NaN\n",
       "267995                  NaN  District A\n",
       "267996                  NaN         NaN\n",
       "\n",
       "[267997 rows x 2 columns]"
      ]
     },
     "execution_count": 47,
     "metadata": {},
     "output_type": "execute_result"
    }
   ],
   "source": [
    "data_police"
   ]
  },
  {
   "cell_type": "code",
   "execution_count": 48,
   "metadata": {},
   "outputs": [],
   "source": [
    "data_police.incident_datetime = pd.to_datetime(data_police.incident_datetime)"
   ]
  },
  {
   "cell_type": "code",
   "execution_count": 49,
   "metadata": {},
   "outputs": [],
   "source": [
    "data_police = pd.DataFrame({'no_of_incidents' : data_police.groupby( [ data_police.police_dt, data_police.incident_datetime.dt.date] ).size()}).reset_index()"
   ]
  },
  {
   "cell_type": "code",
   "execution_count": 50,
   "metadata": {},
   "outputs": [
    {
     "data": {
      "text/html": [
       "<div>\n",
       "<style scoped>\n",
       "    .dataframe tbody tr th:only-of-type {\n",
       "        vertical-align: middle;\n",
       "    }\n",
       "\n",
       "    .dataframe tbody tr th {\n",
       "        vertical-align: top;\n",
       "    }\n",
       "\n",
       "    .dataframe thead th {\n",
       "        text-align: right;\n",
       "    }\n",
       "</style>\n",
       "<table border=\"1\" class=\"dataframe\">\n",
       "  <thead>\n",
       "    <tr style=\"text-align: right;\">\n",
       "      <th></th>\n",
       "      <th>police_dt</th>\n",
       "      <th>incident_datetime</th>\n",
       "      <th>no_of_incidents</th>\n",
       "    </tr>\n",
       "  </thead>\n",
       "  <tbody>\n",
       "    <tr>\n",
       "      <th>0</th>\n",
       "      <td>District A</td>\n",
       "      <td>1970-08-15</td>\n",
       "      <td>1</td>\n",
       "    </tr>\n",
       "    <tr>\n",
       "      <th>1</th>\n",
       "      <td>District A</td>\n",
       "      <td>1981-07-02</td>\n",
       "      <td>1</td>\n",
       "    </tr>\n",
       "    <tr>\n",
       "      <th>2</th>\n",
       "      <td>District A</td>\n",
       "      <td>1985-06-19</td>\n",
       "      <td>1</td>\n",
       "    </tr>\n",
       "    <tr>\n",
       "      <th>3</th>\n",
       "      <td>District A</td>\n",
       "      <td>1988-10-30</td>\n",
       "      <td>1</td>\n",
       "    </tr>\n",
       "    <tr>\n",
       "      <th>4</th>\n",
       "      <td>District A</td>\n",
       "      <td>1992-01-01</td>\n",
       "      <td>1</td>\n",
       "    </tr>\n",
       "    <tr>\n",
       "      <th>...</th>\n",
       "      <td>...</td>\n",
       "      <td>...</td>\n",
       "      <td>...</td>\n",
       "    </tr>\n",
       "    <tr>\n",
       "      <th>27380</th>\n",
       "      <td>District E</td>\n",
       "      <td>2021-02-15</td>\n",
       "      <td>6</td>\n",
       "    </tr>\n",
       "    <tr>\n",
       "      <th>27381</th>\n",
       "      <td>District E</td>\n",
       "      <td>2021-02-16</td>\n",
       "      <td>3</td>\n",
       "    </tr>\n",
       "    <tr>\n",
       "      <th>27382</th>\n",
       "      <td>District E</td>\n",
       "      <td>2021-02-17</td>\n",
       "      <td>2</td>\n",
       "    </tr>\n",
       "    <tr>\n",
       "      <th>27383</th>\n",
       "      <td>District E</td>\n",
       "      <td>2021-02-18</td>\n",
       "      <td>3</td>\n",
       "    </tr>\n",
       "    <tr>\n",
       "      <th>27384</th>\n",
       "      <td>District E</td>\n",
       "      <td>2021-02-19</td>\n",
       "      <td>2</td>\n",
       "    </tr>\n",
       "  </tbody>\n",
       "</table>\n",
       "<p>27385 rows × 3 columns</p>\n",
       "</div>"
      ],
      "text/plain": [
       "        police_dt incident_datetime  no_of_incidents\n",
       "0      District A        1970-08-15                1\n",
       "1      District A        1981-07-02                1\n",
       "2      District A        1985-06-19                1\n",
       "3      District A        1988-10-30                1\n",
       "4      District A        1992-01-01                1\n",
       "...           ...               ...              ...\n",
       "27380  District E        2021-02-15                6\n",
       "27381  District E        2021-02-16                3\n",
       "27382  District E        2021-02-17                2\n",
       "27383  District E        2021-02-18                3\n",
       "27384  District E        2021-02-19                2\n",
       "\n",
       "[27385 rows x 3 columns]"
      ]
     },
     "execution_count": 50,
     "metadata": {},
     "output_type": "execute_result"
    }
   ],
   "source": [
    " data_police"
   ]
  },
  {
   "cell_type": "code",
   "execution_count": 51,
   "metadata": {},
   "outputs": [
    {
     "data": {
      "text/plain": [
       "police_dt            0\n",
       "incident_datetime    0\n",
       "no_of_incidents      0\n",
       "dtype: int64"
      ]
     },
     "execution_count": 51,
     "metadata": {},
     "output_type": "execute_result"
    }
   ],
   "source": [
    " data_police.isna().sum()"
   ]
  },
  {
   "cell_type": "code",
   "execution_count": 52,
   "metadata": {},
   "outputs": [],
   "source": [
    "data_A = data_police[data_police['police_dt'] == 'District A']"
   ]
  },
  {
   "cell_type": "code",
   "execution_count": 53,
   "metadata": {},
   "outputs": [
    {
     "data": {
      "text/html": [
       "<div>\n",
       "<style scoped>\n",
       "    .dataframe tbody tr th:only-of-type {\n",
       "        vertical-align: middle;\n",
       "    }\n",
       "\n",
       "    .dataframe tbody tr th {\n",
       "        vertical-align: top;\n",
       "    }\n",
       "\n",
       "    .dataframe thead th {\n",
       "        text-align: right;\n",
       "    }\n",
       "</style>\n",
       "<table border=\"1\" class=\"dataframe\">\n",
       "  <thead>\n",
       "    <tr style=\"text-align: right;\">\n",
       "      <th></th>\n",
       "      <th>police_dt</th>\n",
       "      <th>incident_datetime</th>\n",
       "      <th>no_of_incidents</th>\n",
       "    </tr>\n",
       "  </thead>\n",
       "  <tbody>\n",
       "    <tr>\n",
       "      <th>0</th>\n",
       "      <td>District A</td>\n",
       "      <td>1970-08-15</td>\n",
       "      <td>1</td>\n",
       "    </tr>\n",
       "    <tr>\n",
       "      <th>1</th>\n",
       "      <td>District A</td>\n",
       "      <td>1981-07-02</td>\n",
       "      <td>1</td>\n",
       "    </tr>\n",
       "    <tr>\n",
       "      <th>2</th>\n",
       "      <td>District A</td>\n",
       "      <td>1985-06-19</td>\n",
       "      <td>1</td>\n",
       "    </tr>\n",
       "    <tr>\n",
       "      <th>3</th>\n",
       "      <td>District A</td>\n",
       "      <td>1988-10-30</td>\n",
       "      <td>1</td>\n",
       "    </tr>\n",
       "    <tr>\n",
       "      <th>4</th>\n",
       "      <td>District A</td>\n",
       "      <td>1992-01-01</td>\n",
       "      <td>1</td>\n",
       "    </tr>\n",
       "    <tr>\n",
       "      <th>...</th>\n",
       "      <td>...</td>\n",
       "      <td>...</td>\n",
       "      <td>...</td>\n",
       "    </tr>\n",
       "    <tr>\n",
       "      <th>5374</th>\n",
       "      <td>District A</td>\n",
       "      <td>2021-02-13</td>\n",
       "      <td>2</td>\n",
       "    </tr>\n",
       "    <tr>\n",
       "      <th>5375</th>\n",
       "      <td>District A</td>\n",
       "      <td>2021-02-14</td>\n",
       "      <td>4</td>\n",
       "    </tr>\n",
       "    <tr>\n",
       "      <th>5376</th>\n",
       "      <td>District A</td>\n",
       "      <td>2021-02-15</td>\n",
       "      <td>4</td>\n",
       "    </tr>\n",
       "    <tr>\n",
       "      <th>5377</th>\n",
       "      <td>District A</td>\n",
       "      <td>2021-02-16</td>\n",
       "      <td>3</td>\n",
       "    </tr>\n",
       "    <tr>\n",
       "      <th>5378</th>\n",
       "      <td>District A</td>\n",
       "      <td>2021-02-18</td>\n",
       "      <td>5</td>\n",
       "    </tr>\n",
       "  </tbody>\n",
       "</table>\n",
       "<p>5379 rows × 3 columns</p>\n",
       "</div>"
      ],
      "text/plain": [
       "       police_dt incident_datetime  no_of_incidents\n",
       "0     District A        1970-08-15                1\n",
       "1     District A        1981-07-02                1\n",
       "2     District A        1985-06-19                1\n",
       "3     District A        1988-10-30                1\n",
       "4     District A        1992-01-01                1\n",
       "...          ...               ...              ...\n",
       "5374  District A        2021-02-13                2\n",
       "5375  District A        2021-02-14                4\n",
       "5376  District A        2021-02-15                4\n",
       "5377  District A        2021-02-16                3\n",
       "5378  District A        2021-02-18                5\n",
       "\n",
       "[5379 rows x 3 columns]"
      ]
     },
     "execution_count": 53,
     "metadata": {},
     "output_type": "execute_result"
    }
   ],
   "source": [
    "data_A"
   ]
  },
  {
   "cell_type": "code",
   "execution_count": 54,
   "metadata": {},
   "outputs": [],
   "source": [
    "data_A = data_A.loc[:,['incident_datetime', 'no_of_incidents']]"
   ]
  },
  {
   "cell_type": "code",
   "execution_count": 55,
   "metadata": {},
   "outputs": [
    {
     "data": {
      "text/html": [
       "<div>\n",
       "<style scoped>\n",
       "    .dataframe tbody tr th:only-of-type {\n",
       "        vertical-align: middle;\n",
       "    }\n",
       "\n",
       "    .dataframe tbody tr th {\n",
       "        vertical-align: top;\n",
       "    }\n",
       "\n",
       "    .dataframe thead th {\n",
       "        text-align: right;\n",
       "    }\n",
       "</style>\n",
       "<table border=\"1\" class=\"dataframe\">\n",
       "  <thead>\n",
       "    <tr style=\"text-align: right;\">\n",
       "      <th></th>\n",
       "      <th>incident_datetime</th>\n",
       "      <th>no_of_incidents</th>\n",
       "    </tr>\n",
       "  </thead>\n",
       "  <tbody>\n",
       "    <tr>\n",
       "      <th>0</th>\n",
       "      <td>1970-08-15</td>\n",
       "      <td>1</td>\n",
       "    </tr>\n",
       "    <tr>\n",
       "      <th>1</th>\n",
       "      <td>1981-07-02</td>\n",
       "      <td>1</td>\n",
       "    </tr>\n",
       "    <tr>\n",
       "      <th>2</th>\n",
       "      <td>1985-06-19</td>\n",
       "      <td>1</td>\n",
       "    </tr>\n",
       "    <tr>\n",
       "      <th>3</th>\n",
       "      <td>1988-10-30</td>\n",
       "      <td>1</td>\n",
       "    </tr>\n",
       "    <tr>\n",
       "      <th>4</th>\n",
       "      <td>1992-01-01</td>\n",
       "      <td>1</td>\n",
       "    </tr>\n",
       "    <tr>\n",
       "      <th>...</th>\n",
       "      <td>...</td>\n",
       "      <td>...</td>\n",
       "    </tr>\n",
       "    <tr>\n",
       "      <th>5374</th>\n",
       "      <td>2021-02-13</td>\n",
       "      <td>2</td>\n",
       "    </tr>\n",
       "    <tr>\n",
       "      <th>5375</th>\n",
       "      <td>2021-02-14</td>\n",
       "      <td>4</td>\n",
       "    </tr>\n",
       "    <tr>\n",
       "      <th>5376</th>\n",
       "      <td>2021-02-15</td>\n",
       "      <td>4</td>\n",
       "    </tr>\n",
       "    <tr>\n",
       "      <th>5377</th>\n",
       "      <td>2021-02-16</td>\n",
       "      <td>3</td>\n",
       "    </tr>\n",
       "    <tr>\n",
       "      <th>5378</th>\n",
       "      <td>2021-02-18</td>\n",
       "      <td>5</td>\n",
       "    </tr>\n",
       "  </tbody>\n",
       "</table>\n",
       "<p>5379 rows × 2 columns</p>\n",
       "</div>"
      ],
      "text/plain": [
       "     incident_datetime  no_of_incidents\n",
       "0           1970-08-15                1\n",
       "1           1981-07-02                1\n",
       "2           1985-06-19                1\n",
       "3           1988-10-30                1\n",
       "4           1992-01-01                1\n",
       "...                ...              ...\n",
       "5374        2021-02-13                2\n",
       "5375        2021-02-14                4\n",
       "5376        2021-02-15                4\n",
       "5377        2021-02-16                3\n",
       "5378        2021-02-18                5\n",
       "\n",
       "[5379 rows x 2 columns]"
      ]
     },
     "execution_count": 55,
     "metadata": {},
     "output_type": "execute_result"
    }
   ],
   "source": [
    "data_A"
   ]
  },
  {
   "cell_type": "code",
   "execution_count": 56,
   "metadata": {},
   "outputs": [],
   "source": [
    "data_A.set_index('incident_datetime', inplace = True)"
   ]
  },
  {
   "cell_type": "code",
   "execution_count": 57,
   "metadata": {},
   "outputs": [
    {
     "data": {
      "text/html": [
       "<div>\n",
       "<style scoped>\n",
       "    .dataframe tbody tr th:only-of-type {\n",
       "        vertical-align: middle;\n",
       "    }\n",
       "\n",
       "    .dataframe tbody tr th {\n",
       "        vertical-align: top;\n",
       "    }\n",
       "\n",
       "    .dataframe thead th {\n",
       "        text-align: right;\n",
       "    }\n",
       "</style>\n",
       "<table border=\"1\" class=\"dataframe\">\n",
       "  <thead>\n",
       "    <tr style=\"text-align: right;\">\n",
       "      <th></th>\n",
       "      <th>no_of_incidents</th>\n",
       "    </tr>\n",
       "    <tr>\n",
       "      <th>incident_datetime</th>\n",
       "      <th></th>\n",
       "    </tr>\n",
       "  </thead>\n",
       "  <tbody>\n",
       "    <tr>\n",
       "      <th>1970-08-15</th>\n",
       "      <td>1</td>\n",
       "    </tr>\n",
       "    <tr>\n",
       "      <th>1981-07-02</th>\n",
       "      <td>1</td>\n",
       "    </tr>\n",
       "    <tr>\n",
       "      <th>1985-06-19</th>\n",
       "      <td>1</td>\n",
       "    </tr>\n",
       "    <tr>\n",
       "      <th>1988-10-30</th>\n",
       "      <td>1</td>\n",
       "    </tr>\n",
       "    <tr>\n",
       "      <th>1992-01-01</th>\n",
       "      <td>1</td>\n",
       "    </tr>\n",
       "    <tr>\n",
       "      <th>...</th>\n",
       "      <td>...</td>\n",
       "    </tr>\n",
       "    <tr>\n",
       "      <th>2021-02-13</th>\n",
       "      <td>2</td>\n",
       "    </tr>\n",
       "    <tr>\n",
       "      <th>2021-02-14</th>\n",
       "      <td>4</td>\n",
       "    </tr>\n",
       "    <tr>\n",
       "      <th>2021-02-15</th>\n",
       "      <td>4</td>\n",
       "    </tr>\n",
       "    <tr>\n",
       "      <th>2021-02-16</th>\n",
       "      <td>3</td>\n",
       "    </tr>\n",
       "    <tr>\n",
       "      <th>2021-02-18</th>\n",
       "      <td>5</td>\n",
       "    </tr>\n",
       "  </tbody>\n",
       "</table>\n",
       "<p>5379 rows × 1 columns</p>\n",
       "</div>"
      ],
      "text/plain": [
       "                   no_of_incidents\n",
       "incident_datetime                 \n",
       "1970-08-15                       1\n",
       "1981-07-02                       1\n",
       "1985-06-19                       1\n",
       "1988-10-30                       1\n",
       "1992-01-01                       1\n",
       "...                            ...\n",
       "2021-02-13                       2\n",
       "2021-02-14                       4\n",
       "2021-02-15                       4\n",
       "2021-02-16                       3\n",
       "2021-02-18                       5\n",
       "\n",
       "[5379 rows x 1 columns]"
      ]
     },
     "execution_count": 57,
     "metadata": {},
     "output_type": "execute_result"
    }
   ],
   "source": [
    "data_A"
   ]
  },
  {
   "cell_type": "code",
   "execution_count": 58,
   "metadata": {},
   "outputs": [
    {
     "data": {
      "text/html": [
       "<div>\n",
       "<style scoped>\n",
       "    .dataframe tbody tr th:only-of-type {\n",
       "        vertical-align: middle;\n",
       "    }\n",
       "\n",
       "    .dataframe tbody tr th {\n",
       "        vertical-align: top;\n",
       "    }\n",
       "\n",
       "    .dataframe thead th {\n",
       "        text-align: right;\n",
       "    }\n",
       "</style>\n",
       "<table border=\"1\" class=\"dataframe\">\n",
       "  <thead>\n",
       "    <tr style=\"text-align: right;\">\n",
       "      <th></th>\n",
       "      <th>no_of_incidents</th>\n",
       "    </tr>\n",
       "    <tr>\n",
       "      <th>incident_datetime</th>\n",
       "      <th></th>\n",
       "    </tr>\n",
       "  </thead>\n",
       "  <tbody>\n",
       "    <tr>\n",
       "      <th>1970-08-15</th>\n",
       "      <td>1.0</td>\n",
       "    </tr>\n",
       "    <tr>\n",
       "      <th>1970-08-16</th>\n",
       "      <td>0.0</td>\n",
       "    </tr>\n",
       "    <tr>\n",
       "      <th>1970-08-17</th>\n",
       "      <td>0.0</td>\n",
       "    </tr>\n",
       "    <tr>\n",
       "      <th>1970-08-18</th>\n",
       "      <td>0.0</td>\n",
       "    </tr>\n",
       "    <tr>\n",
       "      <th>1970-08-19</th>\n",
       "      <td>0.0</td>\n",
       "    </tr>\n",
       "    <tr>\n",
       "      <th>...</th>\n",
       "      <td>...</td>\n",
       "    </tr>\n",
       "    <tr>\n",
       "      <th>2021-02-14</th>\n",
       "      <td>4.0</td>\n",
       "    </tr>\n",
       "    <tr>\n",
       "      <th>2021-02-15</th>\n",
       "      <td>4.0</td>\n",
       "    </tr>\n",
       "    <tr>\n",
       "      <th>2021-02-16</th>\n",
       "      <td>3.0</td>\n",
       "    </tr>\n",
       "    <tr>\n",
       "      <th>2021-02-17</th>\n",
       "      <td>0.0</td>\n",
       "    </tr>\n",
       "    <tr>\n",
       "      <th>2021-02-18</th>\n",
       "      <td>5.0</td>\n",
       "    </tr>\n",
       "  </tbody>\n",
       "</table>\n",
       "<p>18451 rows × 1 columns</p>\n",
       "</div>"
      ],
      "text/plain": [
       "                   no_of_incidents\n",
       "incident_datetime                 \n",
       "1970-08-15                     1.0\n",
       "1970-08-16                     0.0\n",
       "1970-08-17                     0.0\n",
       "1970-08-18                     0.0\n",
       "1970-08-19                     0.0\n",
       "...                            ...\n",
       "2021-02-14                     4.0\n",
       "2021-02-15                     4.0\n",
       "2021-02-16                     3.0\n",
       "2021-02-17                     0.0\n",
       "2021-02-18                     5.0\n",
       "\n",
       "[18451 rows x 1 columns]"
      ]
     },
     "execution_count": 58,
     "metadata": {},
     "output_type": "execute_result"
    }
   ],
   "source": [
    "data_A = data_A.asfreq('D')\n",
    "data_A.no_of_incidents= data_A.no_of_incidents.fillna(0.0)\n",
    "data_A"
   ]
  },
  {
   "cell_type": "markdown",
   "metadata": {},
   "source": [
    "## Visualizing the data"
   ]
  },
  {
   "cell_type": "code",
   "execution_count": 59,
   "metadata": {},
   "outputs": [
    {
     "data": {
      "text/plain": [
       "<AxesSubplot:xlabel='incident_datetime'>"
      ]
     },
     "execution_count": 59,
     "metadata": {},
     "output_type": "execute_result"
    },
    {
     "data": {
      "image/png": "[encoded data removed]",
      "text/plain": [
       "<Figure size 432x288 with 1 Axes>"
      ]
     },
     "metadata": {
      "needs_background": "light"
     },
     "output_type": "display_data"
    }
   ],
   "source": [
    "data_A.plot()"
   ]
  },
  {
   "cell_type": "code",
   "execution_count": 60,
   "metadata": {},
   "outputs": [],
   "source": [
    "data_A = data_A[data_A.index >= '2009-01-01']"
   ]
  },
  {
   "cell_type": "code",
   "execution_count": 61,
   "metadata": {},
   "outputs": [
    {
     "data": {
      "text/html": [
       "<div>\n",
       "<style scoped>\n",
       "    .dataframe tbody tr th:only-of-type {\n",
       "        vertical-align: middle;\n",
       "    }\n",
       "\n",
       "    .dataframe tbody tr th {\n",
       "        vertical-align: top;\n",
       "    }\n",
       "\n",
       "    .dataframe thead th {\n",
       "        text-align: right;\n",
       "    }\n",
       "</style>\n",
       "<table border=\"1\" class=\"dataframe\">\n",
       "  <thead>\n",
       "    <tr style=\"text-align: right;\">\n",
       "      <th></th>\n",
       "      <th>no_of_incidents</th>\n",
       "    </tr>\n",
       "    <tr>\n",
       "      <th>incident_datetime</th>\n",
       "      <th></th>\n",
       "    </tr>\n",
       "  </thead>\n",
       "  <tbody>\n",
       "    <tr>\n",
       "      <th>2009-01-01</th>\n",
       "      <td>17.0</td>\n",
       "    </tr>\n",
       "    <tr>\n",
       "      <th>2009-01-02</th>\n",
       "      <td>8.0</td>\n",
       "    </tr>\n",
       "    <tr>\n",
       "      <th>2009-01-03</th>\n",
       "      <td>8.0</td>\n",
       "    </tr>\n",
       "    <tr>\n",
       "      <th>2009-01-04</th>\n",
       "      <td>6.0</td>\n",
       "    </tr>\n",
       "    <tr>\n",
       "      <th>2009-01-05</th>\n",
       "      <td>9.0</td>\n",
       "    </tr>\n",
       "    <tr>\n",
       "      <th>...</th>\n",
       "      <td>...</td>\n",
       "    </tr>\n",
       "    <tr>\n",
       "      <th>2021-02-14</th>\n",
       "      <td>4.0</td>\n",
       "    </tr>\n",
       "    <tr>\n",
       "      <th>2021-02-15</th>\n",
       "      <td>4.0</td>\n",
       "    </tr>\n",
       "    <tr>\n",
       "      <th>2021-02-16</th>\n",
       "      <td>3.0</td>\n",
       "    </tr>\n",
       "    <tr>\n",
       "      <th>2021-02-17</th>\n",
       "      <td>0.0</td>\n",
       "    </tr>\n",
       "    <tr>\n",
       "      <th>2021-02-18</th>\n",
       "      <td>5.0</td>\n",
       "    </tr>\n",
       "  </tbody>\n",
       "</table>\n",
       "<p>4432 rows × 1 columns</p>\n",
       "</div>"
      ],
      "text/plain": [
       "                   no_of_incidents\n",
       "incident_datetime                 \n",
       "2009-01-01                    17.0\n",
       "2009-01-02                     8.0\n",
       "2009-01-03                     8.0\n",
       "2009-01-04                     6.0\n",
       "2009-01-05                     9.0\n",
       "...                            ...\n",
       "2021-02-14                     4.0\n",
       "2021-02-15                     4.0\n",
       "2021-02-16                     3.0\n",
       "2021-02-17                     0.0\n",
       "2021-02-18                     5.0\n",
       "\n",
       "[4432 rows x 1 columns]"
      ]
     },
     "execution_count": 61,
     "metadata": {},
     "output_type": "execute_result"
    }
   ],
   "source": [
    "data_A"
   ]
  },
  {
   "cell_type": "code",
   "execution_count": 62,
   "metadata": {},
   "outputs": [
    {
     "data": {
      "text/plain": [
       "<AxesSubplot:xlabel='incident_datetime'>"
      ]
     },
     "execution_count": 62,
     "metadata": {},
     "output_type": "execute_result"
    },
    {
     "data": {
      "image/png": "[encoded data removed]",
      "text/plain": [
       "<Figure size 432x288 with 1 Axes>"
      ]
     },
     "metadata": {
      "needs_background": "light"
     },
     "output_type": "display_data"
    }
   ],
   "source": [
    "data_A.plot()"
   ]
  },
  {
   "cell_type": "markdown",
   "metadata": {},
   "source": [
    "## Resampling daily data into weekly data"
   ]
  },
  {
   "cell_type": "code",
   "execution_count": 63,
   "metadata": {},
   "outputs": [],
   "source": [
    "data_A = data_A.resample('W-SUN').sum()"
   ]
  },
  {
   "cell_type": "code",
   "execution_count": 64,
   "metadata": {},
   "outputs": [
    {
     "data": {
      "text/html": [
       "<div>\n",
       "<style scoped>\n",
       "    .dataframe tbody tr th:only-of-type {\n",
       "        vertical-align: middle;\n",
       "    }\n",
       "\n",
       "    .dataframe tbody tr th {\n",
       "        vertical-align: top;\n",
       "    }\n",
       "\n",
       "    .dataframe thead th {\n",
       "        text-align: right;\n",
       "    }\n",
       "</style>\n",
       "<table border=\"1\" class=\"dataframe\">\n",
       "  <thead>\n",
       "    <tr style=\"text-align: right;\">\n",
       "      <th></th>\n",
       "      <th>no_of_incidents</th>\n",
       "    </tr>\n",
       "    <tr>\n",
       "      <th>incident_datetime</th>\n",
       "      <th></th>\n",
       "    </tr>\n",
       "  </thead>\n",
       "  <tbody>\n",
       "    <tr>\n",
       "      <th>2009-01-04</th>\n",
       "      <td>39.0</td>\n",
       "    </tr>\n",
       "    <tr>\n",
       "      <th>2009-01-11</th>\n",
       "      <td>38.0</td>\n",
       "    </tr>\n",
       "    <tr>\n",
       "      <th>2009-01-18</th>\n",
       "      <td>42.0</td>\n",
       "    </tr>\n",
       "    <tr>\n",
       "      <th>2009-01-25</th>\n",
       "      <td>41.0</td>\n",
       "    </tr>\n",
       "    <tr>\n",
       "      <th>2009-02-01</th>\n",
       "      <td>29.0</td>\n",
       "    </tr>\n",
       "    <tr>\n",
       "      <th>...</th>\n",
       "      <td>...</td>\n",
       "    </tr>\n",
       "    <tr>\n",
       "      <th>2021-01-24</th>\n",
       "      <td>16.0</td>\n",
       "    </tr>\n",
       "    <tr>\n",
       "      <th>2021-01-31</th>\n",
       "      <td>29.0</td>\n",
       "    </tr>\n",
       "    <tr>\n",
       "      <th>2021-02-07</th>\n",
       "      <td>17.0</td>\n",
       "    </tr>\n",
       "    <tr>\n",
       "      <th>2021-02-14</th>\n",
       "      <td>12.0</td>\n",
       "    </tr>\n",
       "    <tr>\n",
       "      <th>2021-02-21</th>\n",
       "      <td>12.0</td>\n",
       "    </tr>\n",
       "  </tbody>\n",
       "</table>\n",
       "<p>634 rows × 1 columns</p>\n",
       "</div>"
      ],
      "text/plain": [
       "                   no_of_incidents\n",
       "incident_datetime                 \n",
       "2009-01-04                    39.0\n",
       "2009-01-11                    38.0\n",
       "2009-01-18                    42.0\n",
       "2009-01-25                    41.0\n",
       "2009-02-01                    29.0\n",
       "...                            ...\n",
       "2021-01-24                    16.0\n",
       "2021-01-31                    29.0\n",
       "2021-02-07                    17.0\n",
       "2021-02-14                    12.0\n",
       "2021-02-21                    12.0\n",
       "\n",
       "[634 rows x 1 columns]"
      ]
     },
     "execution_count": 64,
     "metadata": {},
     "output_type": "execute_result"
    }
   ],
   "source": [
    "data_A"
   ]
  },
  {
   "cell_type": "code",
   "execution_count": 65,
   "metadata": {},
   "outputs": [
    {
     "data": {
      "text/plain": [
       "<AxesSubplot:xlabel='incident_datetime'>"
      ]
     },
     "execution_count": 65,
     "metadata": {},
     "output_type": "execute_result"
    },
    {
     "data": {
      "image/png": "[encoded data removed]",
      "text/plain": [
       "<Figure size 432x288 with 1 Axes>"
      ]
     },
     "metadata": {
      "needs_background": "light"
     },
     "output_type": "display_data"
    }
   ],
   "source": [
    "data_A.plot()"
   ]
  },
  {
   "cell_type": "markdown",
   "metadata": {},
   "source": [
    "### Testing for Stationarity"
   ]
  },
  {
   "cell_type": "code",
   "execution_count": 66,
   "metadata": {},
   "outputs": [],
   "source": [
    "from statsmodels.tsa.stattools import adfuller"
   ]
  },
  {
   "cell_type": "code",
   "execution_count": 67,
   "metadata": {},
   "outputs": [],
   "source": [
    "test_result = adfuller(data_A['no_of_incidents'])"
   ]
  },
  {
   "cell_type": "code",
   "execution_count": 68,
   "metadata": {},
   "outputs": [],
   "source": [
    "#H0: It is non stationary\n",
    "#H1: It is stationary\n",
    "def adfuller_test(no_of_incidents):\n",
    "    result = adfuller(no_of_incidents)\n",
    "    labels = ['ADF Test Statistic', 'p-value', 'lags used', 'No. of observations used']\n",
    "    for value, label in zip(result, labels):\n",
    "        print(label+' : '+str(value))\n",
    "    if result[1] <= 0.05:\n",
    "        print(\"Strong evidence against the null hypothesis. Data has no unit root and is stationary\")\n",
    "    else:\n",
    "        print(\"Weak evidence against the null hypothesis. Data has a unit root and is non_stationary\")"
   ]
  },
  {
   "cell_type": "code",
   "execution_count": 69,
   "metadata": {},
   "outputs": [
    {
     "name": "stdout",
     "output_type": "stream",
     "text": [
      "ADF Test Statistic : -3.5139650196102457\n",
      "p-value : 0.0076356030139235\n",
      "lags used : 5\n",
      "No. of observations used : 628\n",
      "Strong evidence against the null hypothesis. Data has no unit root and is stationary\n"
     ]
    }
   ],
   "source": [
    "adfuller_test(data_A['no_of_incidents'])"
   ]
  },
  {
   "cell_type": "markdown",
   "metadata": {},
   "source": [
    "## Data is Stationary, hence no need for differencing"
   ]
  },
  {
   "cell_type": "markdown",
   "metadata": {},
   "source": [
    "## Auto ARIMA"
   ]
  },
  {
   "cell_type": "code",
   "execution_count": 70,
   "metadata": {},
   "outputs": [],
   "source": [
    "import pmdarima as pm\n",
    "from pmdarima.model_selection import train_test_split\n",
    "%matplotlib inline\n",
    "from statsmodels.tsa.arima_model import ARIMA\n",
    "from statsmodels.tsa.api import ExponentialSmoothing, SimpleExpSmoothing, Holt"
   ]
  },
  {
   "cell_type": "markdown",
   "metadata": {},
   "source": [
    "### Splitting the data"
   ]
  },
  {
   "cell_type": "code",
   "execution_count": 71,
   "metadata": {},
   "outputs": [],
   "source": [
    "data_A_train = data_A.iloc[:data_A.size-4]\n",
    "data_A_test = data_A[:-3]"
   ]
  },
  {
   "cell_type": "code",
   "execution_count": 72,
   "metadata": {},
   "outputs": [],
   "source": [
    "### Training set containing data till one month before"
   ]
  },
  {
   "cell_type": "code",
   "execution_count": 73,
   "metadata": {},
   "outputs": [
    {
     "data": {
      "text/plain": [
       "(630, 1)"
      ]
     },
     "execution_count": 73,
     "metadata": {},
     "output_type": "execute_result"
    }
   ],
   "source": [
    "data_A_train.shape"
   ]
  },
  {
   "cell_type": "code",
   "execution_count": 74,
   "metadata": {},
   "outputs": [],
   "source": [
    "### Testing set containing last month's data for validation"
   ]
  },
  {
   "cell_type": "code",
   "execution_count": 75,
   "metadata": {},
   "outputs": [
    {
     "data": {
      "text/plain": [
       "(631, 1)"
      ]
     },
     "execution_count": 75,
     "metadata": {},
     "output_type": "execute_result"
    }
   ],
   "source": [
    "data_A_test.shape"
   ]
  },
  {
   "cell_type": "markdown",
   "metadata": {},
   "source": [
    "### Setting index"
   ]
  },
  {
   "cell_type": "code",
   "execution_count": 111,
   "metadata": {},
   "outputs": [],
   "source": [
    "index = pd.date_range(data_A_train.index[-1], freq = 'W', periods = 4)"
   ]
  },
  {
   "cell_type": "code",
   "execution_count": 112,
   "metadata": {},
   "outputs": [
    {
     "data": {
      "text/plain": [
       "DatetimeIndex(['2021-01-24', '2021-01-31', '2021-02-07', '2021-02-14'], dtype='datetime64[ns]', freq='W-SUN')"
      ]
     },
     "execution_count": 112,
     "metadata": {},
     "output_type": "execute_result"
    }
   ],
   "source": [
    "index"
   ]
  },
  {
   "cell_type": "markdown",
   "metadata": {},
   "source": [
    "### Running the model"
   ]
  },
  {
   "cell_type": "code",
   "execution_count": 113,
   "metadata": {},
   "outputs": [],
   "source": [
    "auto_arima_model = pm.auto_arima(data_A_train, seasonal = False, m=0)"
   ]
  },
  {
   "cell_type": "code",
   "execution_count": 114,
   "metadata": {},
   "outputs": [],
   "source": [
    "forecast = auto_arima_model.predict(4)"
   ]
  },
  {
   "cell_type": "code",
   "execution_count": 115,
   "metadata": {},
   "outputs": [],
   "source": [
    "forecast = pd.Series(forecast, index = index)"
   ]
  },
  {
   "cell_type": "code",
   "execution_count": 116,
   "metadata": {},
   "outputs": [],
   "source": [
    "forecast = forecast.rename(\"Auto Arima\")"
   ]
  },
  {
   "cell_type": "code",
   "execution_count": 117,
   "metadata": {
    "scrolled": true
   },
   "outputs": [
    {
     "data": {
      "text/plain": [
       "<AxesSubplot:xlabel='incident_datetime', ylabel='no_of_incidents'>"
      ]
     },
     "execution_count": 117,
     "metadata": {},
     "output_type": "execute_result"
    },
    {
     "data": {
      "image/png": "[encoded data removed]",
      "text/plain": [
       "<Figure size 1440x360 with 1 Axes>"
      ]
     },
     "metadata": {
      "needs_background": "light"
     },
     "output_type": "display_data"
    }
   ],
   "source": [
    "fig, ax = plt.subplots(figsize = (20,5))\n",
    "chart = sns.lineplot(x='incident_datetime', y='no_of_incidents', data=data_A_train)\n",
    "data_A_test.plot(ax=ax, color='blue', marker='o', legend=True)\n",
    "forecast.plot(ax=ax, color='red', marker='o', legend=True)"
   ]
  },
  {
   "cell_type": "markdown",
   "metadata": {},
   "source": [
    "### MSE of Arima"
   ]
  },
  {
   "cell_type": "code",
   "execution_count": 118,
   "metadata": {},
   "outputs": [],
   "source": [
    "from sklearn.metrics import mean_squared_error"
   ]
  },
  {
   "cell_type": "code",
   "execution_count": 119,
   "metadata": {},
   "outputs": [
    {
     "data": {
      "text/plain": [
       "9.844436211224892"
      ]
     },
     "execution_count": 119,
     "metadata": {},
     "output_type": "execute_result"
    }
   ],
   "source": [
    "mean_squared_error(data_A_test['no_of_incidents'].values, forecast.values, squared = False)"
   ]
  }
 ],
 "metadata": {
  "kernelspec": {
   "display_name": "Python 3",
   "language": "python",
   "name": "python3"
  },
  "language_info": {
   "codemirror_mode": {
    "name": "ipython",
    "version": 3
   },
   "file_extension": ".py",
   "mimetype": "text/x-python",
   "name": "python",
   "nbconvert_exporter": "python",
   "pygments_lexer": "ipython3",
   "version": "3.8.5"
  }
 },
 "nbformat": 4,
 "nbformat_minor": 4
}
