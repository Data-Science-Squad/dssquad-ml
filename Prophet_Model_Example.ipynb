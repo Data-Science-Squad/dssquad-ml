{
 "cells": [
  {
   "cell_type": "code",
   "execution_count": null,
   "metadata": {},
   "outputs": [],
   "source": [
    "import pandas as pd\n",
    "from fbprophet import Prophet\n",
    "\n",
    "# Raw data\n",
    "model_df = pd.read_csv('https://raw.githubusercontent.com/Data-Science-Squad/dssquad-ml/dm-model/prophet-demo/model_data.csv')\n",
    "\n",
    "# Group data by Geo, Geo_Level, and Freq\n",
    "grouped = model_df.groupby([\"Geo\", \"Geo_Level\", \"Freq\"])\n",
    "\n",
    "# Simple Prophet function to fit/forecast\n",
    "def prophet_function(train, test):\n",
    "    m = Prophet()\n",
    "    forecast = m.fit(train).predict(test)\n",
    "    out = forecast[['yhat', 'yhat_lower', 'yhat_upper']]\n",
    "    return(out)\n",
    "\n",
    "# Loop through groups, apply prophet_function, and append output to list\n",
    "models = []\n",
    "for name, group in grouped:\n",
    "    train = group[(group['model_date'] >= '2015-01-01') & (group['model_date'] <= '2019-12-31')]\n",
    "    test = group[(group['model_date'] >= '2020-01-01') & (group['model_date'] <= '2020-12-31')]\n",
    "\n",
    "    prophet_train = train.rename(columns={\"model_date\": \"ds\", 'Incidents': \"y\"})\n",
    "    prophet_test = test.rename(columns={\"model_date\": \"ds\", 'Incidents': \"y\"})  \n",
    "\n",
    "    prophet_fcast = prophet_function(prophet_train, prophet_test)\n",
    "\n",
    "    test = test.reset_index(drop=True)\n",
    "    prophet_fcast = prophet_fcast.reset_index(drop=True)\n",
    "    test_with_fcast = test.join(prophet_fcast)\n",
    "\n",
    "    out = pd.concat([train, test_with_fcast])\n",
    "\n",
    "    models.append(out)\n",
    "\n",
    "# Concatenate list of models\n",
    "models_df = pd.concat(models)\n",
    "\n",
    "models_df.head()"
   ]
  }
 ],
 "metadata": {
  "kernelspec": {
   "display_name": "Python 3",
   "language": "python",
   "name": "python3"
  },
  "language_info": {
   "codemirror_mode": {
    "name": "ipython",
    "version": 3
   },
   "file_extension": ".py",
   "mimetype": "text/x-python",
   "name": "python",
   "nbconvert_exporter": "python",
   "pygments_lexer": "ipython3",
   "version": "3.7.3"
  }
 },
 "nbformat": 4,
 "nbformat_minor": 2
}
